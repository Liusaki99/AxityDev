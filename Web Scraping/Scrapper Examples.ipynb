{
 "cells": [
  {
   "cell_type": "markdown",
   "id": "cea0deaa-b8db-4da1-a90a-9e4558a30c8c",
   "metadata": {},
   "source": [
    "# Scrapper Websites\n",
    "\n",
    "Hint: [nschurmann](https://github.com/nschurmann/organizr)"
   ]
  },
  {
   "cell_type": "code",
   "execution_count": 1,
   "id": "d1b1ccdf-ec95-4ae2-8ef7-3866b64bdf8d",
   "metadata": {},
   "outputs": [],
   "source": [
    "import requests\n",
    "from bs4 import BeautifulSoup"
   ]
  },
  {
   "cell_type": "code",
   "execution_count": 2,
   "id": "1b67fb78-c8ae-4384-adaf-ed3ba772509d",
   "metadata": {},
   "outputs": [],
   "source": [
    "url = \"https://www.seek.co.nz/python-jobs?salaryrange=100000-999999&salarytype=annual\""
   ]
  },
  {
   "cell_type": "code",
   "execution_count": 3,
   "id": "ef324c26-3333-47a8-b09d-7b44a3fdb04b",
   "metadata": {},
   "outputs": [],
   "source": [
    "page = requests.get(url)\n",
    "soup = BeautifulSoup(page.content, \"html.parser\")"
   ]
  },
  {
   "cell_type": "raw",
   "id": "04bf363b-f7b2-4463-8a25-d1c24c24fcb9",
   "metadata": {},
   "source": [
    "soup"
   ]
  },
  {
   "cell_type": "code",
   "execution_count": 4,
   "id": "035678bd-ee10-4b22-8611-67148aa8f9a2",
   "metadata": {},
   "outputs": [],
   "source": [
    "def has_data_search(tag):\n",
    "    return tag.has_attr(\"data-search-sol-meta\")\n",
    "\n",
    "results = soup.find_all(has_data_search)"
   ]
  },
  {
   "cell_type": "code",
   "execution_count": 5,
   "id": "723b135a-f7d5-401c-a1ae-7d046403a439",
   "metadata": {},
   "outputs": [
    {
     "name": "stdout",
     "output_type": "stream",
     "text": [
      "Titulo: Senior Site Reliability Engineer\n",
      "Empresa: Comspek International Limited\n",
      "Salario: n/a\n",
      "Link: https://www.seek.co.nz/job/58889898?type=promoteda\n",
      "\n",
      "Titulo: Scientist - Geomorphology/Erosion Processes\n",
      "Empresa: Manaaki Whenua - Landcare Research\n",
      "Salario: $88,072 to $97,033 per annum\n",
      "Link: https://www.seek.co.nz/job/58890330?type=promoteda\n",
      "\n",
      "Titulo: Backend Developer\n",
      "Empresa: Awa Environmental\n",
      "Salario: n/a\n",
      "Link: https://www.seek.co.nz/job/58883953?type=standarda\n",
      "\n",
      "Titulo: CONTRACT Full Stack Developer (Python/Flask)\n",
      "Empresa: Sunstone Talent\n",
      "Salario: $100-$130 per hour 1-2 month contract 20-40 hours\n",
      "Link: https://www.seek.co.nz/job/58863834?type=standouta\n",
      "\n",
      "Titulo: Senior Full Stack Developer - Python\n",
      "Empresa: Eighty4 Recruitment\n",
      "Salario: NZD130000 - NZD140000 per annum\n",
      "Link: https://www.seek.co.nz/job/58870408?type=standarda\n",
      "\n",
      "Titulo: Backend Developer\n",
      "Empresa: n3 Hub Ltd\n",
      "Salario: n/a\n",
      "Link: https://www.seek.co.nz/job/58464524?type=standouta\n",
      "\n",
      "Titulo: Software Developer\n",
      "Empresa: Crew Consulting\n",
      "Salario: up to $110,000 for the right candidate\n",
      "Link: https://www.seek.co.nz/job/58843119?type=standouta\n",
      "\n",
      "Titulo: Senior Software Developer\n",
      "Empresa: Datacom\n",
      "Salario: n/a\n",
      "Link: https://www.seek.co.nz/job/58875416?type=standouta\n",
      "\n",
      "Titulo: Data Scientist\n",
      "Empresa: Franklin Smith Ltd\n",
      "Salario: $110k - $130k p.a. + 10% bonus & 5% Kiwisaver\n",
      "Link: https://www.seek.co.nz/job/58869676?type=standarda\n",
      "\n",
      "Titulo: Software Developer\n",
      "Empresa: Alcidion NZ Limited\n",
      "Salario: n/a\n",
      "Link: https://www.seek.co.nz/job/58844830?type=standouta\n",
      "\n",
      "Titulo: Data Engineer\n",
      "Empresa: Tātaki Auckland Unlimited\n",
      "Salario: n/a\n",
      "Link: https://www.seek.co.nz/job/58895892?type=standouta\n",
      "\n",
      "Titulo: Software Engineer\n",
      "Empresa: BrightSpark Recruitment\n",
      "Salario: $90,000-$120,000 per annum\n",
      "Link: https://www.seek.co.nz/job/58853797?type=standouta\n",
      "\n",
      "Titulo: Backend Software Engineer\n",
      "Empresa: Jasper\n",
      "Salario: n/a\n",
      "Link: https://www.seek.co.nz/job/58892119?type=standouta\n",
      "\n",
      "Titulo: Backend Developer\n",
      "Empresa: Road Ninja\n",
      "Salario: n/a\n",
      "Link: https://www.seek.co.nz/job/58826938?type=standouta\n",
      "\n",
      "Titulo: Software Developer\n",
      "Empresa: Tribe (New Zealand) Limited\n",
      "Salario: n/a\n",
      "Link: https://www.seek.co.nz/job/58763116?type=standouta\n",
      "\n",
      "Titulo: Software Developer / Chance upgrade your skills / $130k neg / WFH option\n",
      "Empresa: Enterprise Technology Recruitment Ltd\n",
      "Salario: $120,000 - $129,999\n",
      "Link: https://www.seek.co.nz/job/58888805?type=standarda\n",
      "\n",
      "Titulo: Experienced Software Developer\n",
      "Empresa: Rezare Systems\n",
      "Salario: $88,000 to $130,000 depending on experience\n",
      "Link: https://www.seek.co.nz/job/58823758?type=standarda\n",
      "\n",
      "Titulo: Software Developer\n",
      "Empresa: NOW New Zealand Limited\n",
      "Salario: n/a\n",
      "Link: https://www.seek.co.nz/job/58768021?type=standouta\n",
      "\n",
      "Titulo: Python Software Engineer – 12 month Contract\n",
      "Empresa: Crescent Consulting\n",
      "Salario: n/a\n",
      "Link: https://www.seek.co.nz/job/58606487?type=standouta\n",
      "\n",
      "Titulo: Implementation Consultant  (Backend Software Applications)\n",
      "Empresa: healthAlliance\n",
      "Salario: n/a\n",
      "Link: https://www.seek.co.nz/job/58878825?type=standouta\n",
      "\n",
      "Titulo: Data Engineer (12mth FTC) - Auckland\n",
      "Empresa: Loyalty New Zealand Limited\n",
      "Salario: n/a\n",
      "Link: https://www.seek.co.nz/job/58890011?type=standouta\n",
      "\n",
      "Titulo: Data Engineer\n",
      "Empresa: Kiwibank\n",
      "Salario: Competitive with banking benefits\n",
      "Link: https://www.seek.co.nz/job/58890219?type=standouta\n",
      "\n"
     ]
    }
   ],
   "source": [
    "dict_jobs = {}\n",
    "k = 0\n",
    "\n",
    "for job in results:\n",
    "    try:\n",
    "        titleElement = job.find(\"a\", attrs={\"data-automation\": \"jobTitle\"})\n",
    "        title = titleElement.get_text()\n",
    "        company = job.find(\"a\", attrs={\"data-automation\": \"jobCompany\"}).get_text()\n",
    "        joblink = \"https://www.seek.co.nz\" + titleElement[\"href\"]\n",
    "        salary = job.find(\"span\", attrs={\"data-automation\": \"jobSalary\"})\n",
    "        salary = salary.get_text() if salary else 'n/a'\n",
    "\n",
    "        job = \"Titulo: {}\\nEmpresa: {}\\nSalario: {}\\nLink: {}a\\n\"\n",
    "\n",
    "        job = job.format(title, company, salary, joblink)\n",
    "        print(job)\n",
    "        dict_jobs[k] = {\"titulo\": title,\n",
    "                        \"empresa\": company,\n",
    "                        \"link\": joblink,\n",
    "                        \"salary\": salary}\n",
    "        k += 1\n",
    "    except Exception as e:\n",
    "        print(\"Exception: {}\".format(e))\n",
    "        pass"
   ]
  },
  {
   "cell_type": "code",
   "execution_count": 6,
   "id": "ad817540-84c7-4c64-ac45-a4cad4e76d14",
   "metadata": {},
   "outputs": [
    {
     "data": {
      "text/plain": [
       "{'titulo': 'Senior Site Reliability Engineer',\n",
       " 'empresa': 'Comspek International Limited',\n",
       " 'link': 'https://www.seek.co.nz/job/58889898?type=promoted',\n",
       " 'salary': 'n/a'}"
      ]
     },
     "execution_count": 6,
     "metadata": {},
     "output_type": "execute_result"
    }
   ],
   "source": [
    "dict_jobs[0]"
   ]
  },
  {
   "cell_type": "code",
   "execution_count": 7,
   "id": "5f56845b-ce15-4936-b107-fffa970a64e3",
   "metadata": {},
   "outputs": [
    {
     "data": {
      "text/plain": [
       "{'titulo': 'Scientist - Geomorphology/Erosion Processes',\n",
       " 'empresa': 'Manaaki Whenua - Landcare Research',\n",
       " 'link': 'https://www.seek.co.nz/job/58890330?type=promoted',\n",
       " 'salary': '$88,072 to $97,033 per annum'}"
      ]
     },
     "execution_count": 7,
     "metadata": {},
     "output_type": "execute_result"
    }
   ],
   "source": [
    "dict_jobs[1]"
   ]
  },
  {
   "cell_type": "markdown",
   "id": "7a690e31-e098-47de-b80e-830b9fb0ca1c",
   "metadata": {},
   "source": [
    "# Busquedas en Google\n",
    "\n",
    "## Caso 1"
   ]
  },
  {
   "cell_type": "code",
   "execution_count": 8,
   "id": "5ae2ebde-951b-4d26-b97c-a3d0345861fa",
   "metadata": {},
   "outputs": [],
   "source": [
    "from googlesearch import search"
   ]
  },
  {
   "cell_type": "code",
   "execution_count": 9,
   "id": "b2cdf48b-27b7-4125-af90-58ad23588add",
   "metadata": {},
   "outputs": [
    {
     "name": "stdout",
     "output_type": "stream",
     "text": [
      "https://campusgenero.inmujeres.gob.mx/glosario/terminos/sesgo-de-genero\n",
      "https://es.wikipedia.org/wiki/Sesgo_de_g%C3%A9nero\n",
      "https://protecciondatos-lopd.com/empresas/sesgo-de-genero/\n",
      "https://www.observatoriorh.com/orh-posts/los-4-sesgos-de-genero-mas-importantes-y-frecuentes.html\n",
      "https://komunikalatam.com/sesgos-de-genero/\n",
      "http://scielo.isciii.es/scielo.php?script=sci_arttext&pid=S0213-91112004000400019\n",
      "https://www.ucm.es/data/cont/docs/85-2018-04-22-4.%20Estereotipos,%20actitudes%20y%20sesgos%20de%20g%C3%A9nero.pdf\n",
      "http://www.scielo.org.mx/scielo.php?script=sci_arttext&pid=S2448-49112018000100113\n",
      "https://medicinainternaaltovalor.fesemi.org/colaboraciones/el-sesgo-de-genero-en-la-atencion-sanitaria/\n",
      "https://www.eldiario.es/tecnologia/sesgos-genero-algoritmos-circulo-perverso-discriminacion-linea-vida-real_129_7198975.html\n",
      "https://es.unesco.org/girltrouble\n"
     ]
    }
   ],
   "source": [
    "query = \"sesgo+genero\"\n",
    "\n",
    "for j in search(query, num_results=10, lang=\"es\"):\n",
    "    print(j)"
   ]
  },
  {
   "cell_type": "markdown",
   "id": "3d153082-4611-4d96-b5bc-8df8e49200c3",
   "metadata": {},
   "source": [
    "## Caso 2"
   ]
  },
  {
   "cell_type": "code",
   "execution_count": 10,
   "id": "3c221822-5fd9-4b02-93df-84847c3cfff2",
   "metadata": {},
   "outputs": [],
   "source": [
    "import requests\n",
    "from bs4 import BeautifulSoup"
   ]
  },
  {
   "cell_type": "code",
   "execution_count": 12,
   "id": "d7b077fd-f7d6-4686-91a3-9433a4ac4531",
   "metadata": {},
   "outputs": [],
   "source": [
    "# Make two strings with default google search URL\n",
    "# 'https://google.com/search?q=' and\n",
    "# our customized search keyword.\n",
    "# Concatenate them\n",
    "text = \"sesgo+genero\"\n",
    "url  = 'https://google.com/search?q=' + text"
   ]
  },
  {
   "cell_type": "code",
   "execution_count": 13,
   "id": "bd5aaf23-63c5-444c-ae72-ddbcec50669f",
   "metadata": {},
   "outputs": [
    {
     "name": "stdout",
     "output_type": "stream",
     "text": [
      "Sesgo de Género - Glosario para en linea\n",
      "------\n",
      "Sesgo de género - Wikipedia, la enciclopedia libre\n",
      "------\n",
      "Sesgo de género\n",
      "------\n",
      "El sesgo de género y su influencia en el ámbito laboral\n",
      "------\n",
      "Los 4 sesgos de género más importantes y frecuentes\n",
      "------\n",
      "Los sesgos de género: conscientes en nuestra inconsciencia\n",
      "------\n",
      "Sesgo de género en el esfuerzo terapéutico - SciELO España\n",
      "------\n",
      "[PDF] Actitudes, estereotipos y sesgos de género\n",
      "------\n",
      "Una tipología de los sesgos y estereotipos de género en la ...\n",
      "------\n",
      "El sesgo de género en la atención sanitaria.\n",
      "------\n",
      "Sesgos de género en los algoritmos: un círculo perverso ... - El Diario\n",
      "------\n"
     ]
    }
   ],
   "source": [
    "# Fetch the URL data using requests.get(url),\n",
    "# store it in a variable, request_result.\n",
    "request_result = requests.get(url)\n",
    "\n",
    "# Creating soup from the fetched request\n",
    "soup = BeautifulSoup(request_result.text, \"html.parser\")\n",
    "\n",
    "# soup.find.all(h3) to grab \n",
    "# all major headings of our search result,\n",
    "heading_object = soup.find_all('h3')\n",
    "#heading_object = soup.find_all('a')\n",
    "\n",
    "# Iterate through the object\n",
    "# and print it as a string.\n",
    "for info in heading_object:\n",
    "    print(info.getText())\n",
    "    print(\"------\")"
   ]
  },
  {
   "cell_type": "code",
   "execution_count": 14,
   "id": "7a757ddb-28b6-4344-93b7-0a01d76791e3",
   "metadata": {},
   "outputs": [
    {
     "data": {
      "text/plain": [
       "[<h3 class=\"zBAuLc l97dzf\"><div class=\"BNeawe vvjwJb AP7Wnd\">Sesgo de Género - Glosario para en linea</div></h3>,\n",
       " <h3 class=\"zBAuLc l97dzf\"><div class=\"BNeawe vvjwJb AP7Wnd\">Sesgo de género - Wikipedia, la enciclopedia libre</div></h3>,\n",
       " <h3 class=\"zBAuLc l97dzf\"><div class=\"BNeawe deIvCb AP7Wnd\">Sesgo de género</div></h3>,\n",
       " <h3 class=\"zBAuLc l97dzf\"><div class=\"BNeawe vvjwJb AP7Wnd\">El sesgo de género y su influencia en el ámbito laboral</div></h3>,\n",
       " <h3 class=\"zBAuLc l97dzf\"><div class=\"BNeawe vvjwJb AP7Wnd\">Los 4 sesgos de género más importantes y frecuentes</div></h3>,\n",
       " <h3 class=\"zBAuLc l97dzf\"><div class=\"BNeawe vvjwJb AP7Wnd\">Los sesgos de género: conscientes en nuestra inconsciencia</div></h3>,\n",
       " <h3 class=\"zBAuLc l97dzf\"><div class=\"BNeawe vvjwJb AP7Wnd\">Sesgo de género en el esfuerzo terapéutico - SciELO España</div></h3>,\n",
       " <h3 class=\"zBAuLc l97dzf\"><div class=\"BNeawe vvjwJb AP7Wnd\">[PDF] Actitudes, estereotipos y sesgos de género</div></h3>,\n",
       " <h3 class=\"zBAuLc l97dzf\"><div class=\"BNeawe vvjwJb AP7Wnd\">Una tipología de los sesgos y estereotipos de género en la ...</div></h3>,\n",
       " <h3 class=\"zBAuLc l97dzf\"><div class=\"BNeawe vvjwJb AP7Wnd\">El sesgo de género en la atención sanitaria.</div></h3>,\n",
       " <h3 class=\"zBAuLc l97dzf\"><div class=\"BNeawe vvjwJb AP7Wnd\">Sesgos de género en los algoritmos: un círculo perverso ... - El Diario</div></h3>]"
      ]
     },
     "execution_count": 14,
     "metadata": {},
     "output_type": "execute_result"
    }
   ],
   "source": [
    "heading_object"
   ]
  },
  {
   "cell_type": "raw",
   "id": "451b9e38-5afd-4324-97ff-80ce0f77499c",
   "metadata": {},
   "source": [
    "print(soup.prettify())"
   ]
  },
  {
   "cell_type": "code",
   "execution_count": 15,
   "id": "dd7cdb2d-bbf8-4287-8a03-6c89626276f8",
   "metadata": {},
   "outputs": [
    {
     "data": {
      "text/plain": [
       "'El sesgo de género se refiere a la omisión que se hace sobre cómo son conceptualizadas las mujeres, los hombres y las relaciones de género en un determinado\\xa0...'"
      ]
     },
     "execution_count": 15,
     "metadata": {},
     "output_type": "execute_result"
    }
   ],
   "source": [
    "soup.find_all(class_=\"BNeawe s3v9rd AP7Wnd\")[0].get_text()"
   ]
  },
  {
   "cell_type": "code",
   "execution_count": 17,
   "id": "d1ef973a-2523-4397-8e04-4ef161223f9b",
   "metadata": {},
   "outputs": [
    {
     "data": {
      "text/plain": [
       "[<div class=\"BNeawe s3v9rd AP7Wnd\"><div><div><div class=\"BNeawe s3v9rd AP7Wnd\">El sesgo de género se refiere a la omisión que se hace sobre cómo son conceptualizadas las mujeres, los hombres y las relaciones de género en un determinado ...</div></div></div></div>,\n",
       " <div class=\"BNeawe s3v9rd AP7Wnd\">El sesgo de género se refiere a la omisión que se hace sobre cómo son conceptualizadas las mujeres, los hombres y las relaciones de género en un determinado ...</div>,\n",
       " <div class=\"BNeawe s3v9rd AP7Wnd\"><div><div><div class=\"BNeawe s3v9rd AP7Wnd\">El sesgo de género se define como los principios o preceptos que se asignan a una persona o colectivo basado en su género. Se trata de ideas, ...</div></div></div></div>,\n",
       " <div class=\"BNeawe s3v9rd AP7Wnd\">El sesgo de género se define como los principios o preceptos que se asignan a una persona o colectivo basado en su género. Se trata de ideas, ...</div>,\n",
       " <div class=\"BNeawe s3v9rd AP7Wnd\"><div><div class=\"BNeawe s3v9rd AP7Wnd\">El sesgo de género se define como los principios o preceptos que se asignan a una persona o colectivo basado en su género. Se trata de ideas, predilecciones o hasta prejuicios inconscientes basados en estereotipos socioculturales. <span class=\"BNeawe\"><a href=\"/url?q=https://es.wikipedia.org/wiki/Sesgo_de_g%25C3%25A9nero&amp;sa=U&amp;ved=2ahUKEwiz_OzxoO36AhW-q1YBHXC6DdcQmhN6BAgIEA0&amp;usg=AOvVaw3x54H6hJzcDmNg9TUz2ryV\"><span class=\"XLloXe AP7Wnd\">Wikipedia</span></a></span></div></div></div>,\n",
       " <div class=\"BNeawe s3v9rd AP7Wnd\">El sesgo de género se define como los principios o preceptos que se asignan a una persona o colectivo basado en su género. Se trata de ideas, predilecciones o hasta prejuicios inconscientes basados en estereotipos socioculturales. <span class=\"BNeawe\"><a href=\"/url?q=https://es.wikipedia.org/wiki/Sesgo_de_g%25C3%25A9nero&amp;sa=U&amp;ved=2ahUKEwiz_OzxoO36AhW-q1YBHXC6DdcQmhN6BAgIEA0&amp;usg=AOvVaw3x54H6hJzcDmNg9TUz2ryV\"><span class=\"XLloXe AP7Wnd\">Wikipedia</span></a></span></div>,\n",
       " <div class=\"BNeawe s3v9rd AP7Wnd\"><div><div class=\"v9i61e\"><div class=\"BNeawe s3v9rd AP7Wnd\"><span class=\"r0bn4c rQMQod\">28 oct 2021</span><span class=\"r0bn4c rQMQod\"> · </span>El sesgo de género consiste en omitir la manera en que se conceptualizan los hombres, las mujeres y las relaciones entre ellos al realizar ...</div></div><div><div class=\"BNeawe s3v9rd AP7Wnd\"><span class=\"BNeawe\"><a href=\"/url?q=https://protecciondatos-lopd.com/empresas/sesgo-de-genero/%23Como_afecta_el_sesgo_de_genero_en_el_ambito_laboral&amp;sa=U&amp;ved=2ahUKEwiz_OzxoO36AhW-q1YBHXC6DdcQ0gJ6BAgJEAY&amp;usg=AOvVaw3Of9-yOkyCz9pOiSPOAq4i\"><span class=\"XLloXe AP7Wnd\">¿Cómo afecta el sesgo de...</span></a></span> · <span class=\"BNeawe\"><a href=\"/url?q=https://protecciondatos-lopd.com/empresas/sesgo-de-genero/%23Tipos_de_sesgos_de_genero_en_el_trabajo&amp;sa=U&amp;ved=2ahUKEwiz_OzxoO36AhW-q1YBHXC6DdcQ0gJ6BAgJEAc&amp;usg=AOvVaw0VO66TqOB8dTj10Godzg9m\"><span class=\"XLloXe AP7Wnd\">Tipos de sesgos de género en...</span></a></span></div></div></div></div>,\n",
       " <div class=\"BNeawe s3v9rd AP7Wnd\"><span class=\"r0bn4c rQMQod\">28 oct 2021</span><span class=\"r0bn4c rQMQod\"> · </span>El sesgo de género consiste en omitir la manera en que se conceptualizan los hombres, las mujeres y las relaciones entre ellos al realizar ...</div>,\n",
       " <div class=\"BNeawe s3v9rd AP7Wnd\"><span class=\"BNeawe\"><a href=\"/url?q=https://protecciondatos-lopd.com/empresas/sesgo-de-genero/%23Como_afecta_el_sesgo_de_genero_en_el_ambito_laboral&amp;sa=U&amp;ved=2ahUKEwiz_OzxoO36AhW-q1YBHXC6DdcQ0gJ6BAgJEAY&amp;usg=AOvVaw3Of9-yOkyCz9pOiSPOAq4i\"><span class=\"XLloXe AP7Wnd\">¿Cómo afecta el sesgo de...</span></a></span> · <span class=\"BNeawe\"><a href=\"/url?q=https://protecciondatos-lopd.com/empresas/sesgo-de-genero/%23Tipos_de_sesgos_de_genero_en_el_trabajo&amp;sa=U&amp;ved=2ahUKEwiz_OzxoO36AhW-q1YBHXC6DdcQ0gJ6BAgJEAc&amp;usg=AOvVaw0VO66TqOB8dTj10Godzg9m\"><span class=\"XLloXe AP7Wnd\">Tipos de sesgos de género en...</span></a></span></div>,\n",
       " <div class=\"BNeawe s3v9rd AP7Wnd\"><div><div><div class=\"BNeawe s3v9rd AP7Wnd\"><span class=\"r0bn4c rQMQod\">10 ene 2022</span><span class=\"r0bn4c rQMQod\"> · </span>Los 4 sesgos de género más importantes y frecuentes · 1. Sesgo de rendimiento. “El sesgo de rendimiento consiste en una subestimación del ...</div></div></div></div>,\n",
       " <div class=\"BNeawe s3v9rd AP7Wnd\"><span class=\"r0bn4c rQMQod\">10 ene 2022</span><span class=\"r0bn4c rQMQod\"> · </span>Los 4 sesgos de género más importantes y frecuentes · 1. Sesgo de rendimiento. “El sesgo de rendimiento consiste en una subestimación del ...</div>,\n",
       " <div class=\"BNeawe s3v9rd AP7Wnd\"><div><div><div class=\"BNeawe s3v9rd AP7Wnd\">El sesgo de género se refiere a aquellas creencias inconscientes que todos tenemos sobre hombres y mujeres, basadas en los estereotipos socioculturales con los ...</div></div></div></div>,\n",
       " <div class=\"BNeawe s3v9rd AP7Wnd\">El sesgo de género se refiere a aquellas creencias inconscientes que todos tenemos sobre hombres y mujeres, basadas en los estereotipos socioculturales con los ...</div>,\n",
       " <div class=\"BNeawe s3v9rd AP7Wnd\"><div><div><div class=\"BNeawe s3v9rd AP7Wnd\">La Sociedad Americana de Mujeres Médicas define sesgo de género como «la diferencia en el tratamiento de ambos sexos con un mismo diagnóstico clínico, que puede ...</div></div></div></div>,\n",
       " <div class=\"BNeawe s3v9rd AP7Wnd\">La Sociedad Americana de Mujeres Médicas define sesgo de género como «la diferencia en el tratamiento de ambos sexos con un mismo diagnóstico clínico, que puede ...</div>,\n",
       " <div class=\"BNeawe s3v9rd AP7Wnd\"><div><div><div class=\"BNeawe s3v9rd AP7Wnd\">Actitudes, estereotipos y sesgos de género ... ¿Podemos tener sesgos a la hora de evaluar a alguien, de tomar decisiones (de ... Sesgo de confirmación.</div></div></div></div>,\n",
       " <div class=\"BNeawe s3v9rd AP7Wnd\">Actitudes, estereotipos y sesgos de género ... ¿Podemos tener sesgos a la hora de evaluar a alguien, de tomar decisiones (de ... Sesgo de confirmación.</div>,\n",
       " <div class=\"BNeawe s3v9rd AP7Wnd\"><div><div><div class=\"BNeawe s3v9rd AP7Wnd\">Así como con el concepto de sexo se suele aludir a cuestiones biológicamente determinadas, la noción de género hace referencia a una construcción sociocultural, ...</div></div></div></div>,\n",
       " <div class=\"BNeawe s3v9rd AP7Wnd\">Así como con el concepto de sexo se suele aludir a cuestiones biológicamente determinadas, la noción de género hace referencia a una construcción sociocultural, ...</div>,\n",
       " <div class=\"BNeawe s3v9rd AP7Wnd\"><div><div><div class=\"BNeawe s3v9rd AP7Wnd\"><span class=\"r0bn4c rQMQod\">1 abr 2019</span><span class=\"r0bn4c rQMQod\"> · </span>Este sesgo de género se puede producir en todos los niveles de la atención sanitaria: las mujeres son afectadas por la enfermedad de ...</div></div></div></div>,\n",
       " <div class=\"BNeawe s3v9rd AP7Wnd\"><span class=\"r0bn4c rQMQod\">1 abr 2019</span><span class=\"r0bn4c rQMQod\"> · </span>Este sesgo de género se puede producir en todos los niveles de la atención sanitaria: las mujeres son afectadas por la enfermedad de ...</div>,\n",
       " <div class=\"BNeawe s3v9rd AP7Wnd\"><div><div><div class=\"BNeawe s3v9rd AP7Wnd\"><span class=\"r0bn4c rQMQod\">8 feb 2021</span><span class=\"r0bn4c rQMQod\"> · </span>La “condición algorítmica” está alterando los derechos humanos, que prohíben la discriminación por razón de sexo o género.</div></div></div></div>,\n",
       " <div class=\"BNeawe s3v9rd AP7Wnd\"><span class=\"r0bn4c rQMQod\">8 feb 2021</span><span class=\"r0bn4c rQMQod\"> · </span>La “condición algorítmica” está alterando los derechos humanos, que prohíben la discriminación por razón de sexo o género.</div>]"
      ]
     },
     "execution_count": 17,
     "metadata": {},
     "output_type": "execute_result"
    }
   ],
   "source": [
    "soup.find_all(\"div\", class_=\"BNeawe s3v9rd AP7Wnd\")"
   ]
  },
  {
   "cell_type": "code",
   "execution_count": null,
   "id": "3728bf4f-9891-4407-8ef0-137659f685d2",
   "metadata": {},
   "outputs": [],
   "source": []
  },
  {
   "cell_type": "code",
   "execution_count": null,
   "id": "c74cfa53-57ca-49e3-a2d0-8df03611e8a9",
   "metadata": {},
   "outputs": [],
   "source": []
  },
  {
   "cell_type": "code",
   "execution_count": null,
   "id": "e3fac5ca-7708-467b-b93f-8c835bc487d8",
   "metadata": {},
   "outputs": [],
   "source": []
  },
  {
   "cell_type": "code",
   "execution_count": null,
   "id": "7e5f98dd-6238-4840-b5df-ccce0b1637be",
   "metadata": {},
   "outputs": [],
   "source": []
  },
  {
   "cell_type": "code",
   "execution_count": null,
   "id": "be0404d2-4e61-4d66-ba92-18fa7337ce9e",
   "metadata": {},
   "outputs": [],
   "source": []
  }
 ],
 "metadata": {
  "kernelspec": {
   "display_name": "Python 3 (ipykernel)",
   "language": "python",
   "name": "python3"
  },
  "language_info": {
   "codemirror_mode": {
    "name": "ipython",
    "version": 3
   },
   "file_extension": ".py",
   "mimetype": "text/x-python",
   "name": "python",
   "nbconvert_exporter": "python",
   "pygments_lexer": "ipython3",
   "version": "3.9.12"
  }
 },
 "nbformat": 4,
 "nbformat_minor": 5
}
