{
 "cells": [
  {
   "cell_type": "markdown",
   "id": "504fb99d-0e08-4798-8cc7-e701de215572",
   "metadata": {},
   "source": [
    "# Scrapping to Google Search"
   ]
  },
  {
   "cell_type": "markdown",
   "id": "9cf18608-9092-4a1a-859c-d0005cda5e2b",
   "metadata": {},
   "source": [
    "## Caso 1"
   ]
  },
  {
   "cell_type": "code",
   "execution_count": 1,
   "id": "9a0b431a-9b6f-4b34-831b-edc92ccb633d",
   "metadata": {},
   "outputs": [],
   "source": [
    "import requests\n",
    "from bs4 import BeautifulSoup"
   ]
  },
  {
   "cell_type": "code",
   "execution_count": 4,
   "id": "bac7cea4-7990-4630-b9fb-5405f98e9cc2",
   "metadata": {},
   "outputs": [],
   "source": [
    "text = \"sesgo de genero\"\n",
    "text = text.replace(' ', '+')\n",
    "url  = 'https://google.com/search?q=' + text"
   ]
  },
  {
   "cell_type": "code",
   "execution_count": 6,
   "id": "05d5cd1a-6388-4b26-be4a-b9b52518d5e1",
   "metadata": {},
   "outputs": [],
   "source": [
    "result = requests.get(url).text\n",
    "doc = BeautifulSoup(result, \"html.parser\")"
   ]
  },
  {
   "cell_type": "raw",
   "id": "1d15adea-c612-4517-9559-619fc6e2b90f",
   "metadata": {},
   "source": [
    "print(doc.prettify())"
   ]
  },
  {
   "cell_type": "code",
   "execution_count": 7,
   "id": "77b67575-c904-4427-8de8-31cc407b2096",
   "metadata": {
    "tags": []
   },
   "outputs": [
    {
     "name": "stdout",
     "output_type": "stream",
     "text": [
      "https://campusgenero.inmujeres.gob.mx/glosario/terminos/sesgo-de-genero\n",
      "Sesgo de Género - Glosario para en linea\n",
      "https://es.wikipedia.org/wiki/Sesgo_de_g%25C3%25A9nero\n",
      "Sesgo de género - Wikipedia, la enciclopedia libre\n",
      "https://protecciondatos-lopd.com/empresas/sesgo-de-genero/\n",
      "El sesgo de género y su influencia en el ámbito laboral\n",
      "https://www.observatoriorh.com/orh-posts/los-4-sesgos-de-genero-mas-importantes-y-frecuentes.html\n",
      "Los 4 sesgos de género más importantes y frecuentes\n",
      "https://komunikalatam.com/sesgos-de-genero/\n",
      "Los sesgos de género: conscientes en nuestra inconsciencia\n",
      "http://scielo.isciii.es/scielo.php%3Fscript%3Dsci_arttext%26pid%3DS0213-91112004000400019\n",
      "Sesgo de género en el esfuerzo terapéutico - SciELO España\n",
      "https://www.ucm.es/data/cont/docs/85-2018-04-22-4.%2520Estereotipos,%2520actitudes%2520y%2520sesgos%2520de%2520g%25C3%25A9nero.pdf\n",
      "[PDF] Actitudes, estereotipos y sesgos de género\n",
      "http://www.scielo.org.mx/scielo.php%3Fscript%3Dsci_arttext%26pid%3DS2448-49112018000100113\n",
      "Una tipología de los sesgos y estereotipos de género en la ...\n",
      "https://www.inmujeres.gob.es/publicacioneselectronicas/documentacion/Documentos/DE0051.pdf\n",
      "[PDF] cuidado y provisión: el sesgo de género en las prácticas ...\n",
      "https://es.unesco.org/girltrouble\n",
      "Chicas en acción: rompiendo el sesgo de género en la IA - UNESCO\n"
     ]
    }
   ],
   "source": [
    "links = doc.find_all(\"a\")\n",
    "\n",
    "for link in links:\n",
    "    link_href = link.get('href')\n",
    "    if \"url?q=\" in link_href and not \"webcache\" in link_href:\n",
    "        title = link.find_all('h3')\n",
    "        if len(title) > 0:\n",
    "            print(link.get('href').split(\"?q=\")[1].split(\"&sa=U\")[0])\n",
    "            print(title[0].getText())"
   ]
  },
  {
   "cell_type": "markdown",
   "id": "be026e6d-02a5-4a91-a9d0-f7f0b25dd210",
   "metadata": {},
   "source": [
    "## Caso 2\n",
    "\n",
    "Interesting links:\n",
    "\n",
    "- [some tutorials](https://replit.com/@DimitryZub1/Google-Search-Scrape-Title-Link-Domain-Snippet-python#bs4_result.py)"
   ]
  },
  {
   "cell_type": "code",
   "execution_count": 8,
   "id": "875d730c-1a55-489c-874a-17293f49fcc8",
   "metadata": {},
   "outputs": [],
   "source": [
    "import requests\n",
    "from bs4 import BeautifulSoup\n",
    "import re"
   ]
  },
  {
   "cell_type": "code",
   "execution_count": null,
   "id": "9b62c998-2484-472a-95fe-9201fb9f88f7",
   "metadata": {},
   "outputs": [],
   "source": [
    "#text = \"web+scraping\"\n",
    "#url  = \"https://google.com/search?q=\" + text\n",
    "\n",
    "headers={'User-Agent':'Mozilla/5.0 (Windows NT 10.0; Win64; x64) AppleWebKit/537.36 (KHTML, like Gecko) Chrome/74.0.3729.169 Safari/537.36'}\n",
    "params = {'q': 'sesgo+de+genero',\n",
    "          #'hl': 'fr',#['fr','en','sp'],\n",
    "          'num': '10'}\n",
    "\n",
    "result = requests.get(\"https://www.google.com/search\", headers=headers, params=params).text\n",
    "doc = BeautifulSoup(result, \"html.parser\")"
   ]
  },
  {
   "cell_type": "raw",
   "id": "34a392d0-6807-433f-98e9-ed201355e828",
   "metadata": {},
   "source": [
    "print(doc.prettify())"
   ]
  },
  {
   "cell_type": "code",
   "execution_count": 10,
   "id": "4d43e8c0-834d-44e9-9a21-1d23c6f04022",
   "metadata": {},
   "outputs": [
    {
     "name": "stdout",
     "output_type": "stream",
     "text": [
      "Sesgo de Género - Glosario para en linea\n",
      "https://campusgenero.inmujeres.gob.mx/glosario/terminos/sesgo-de-genero\n",
      "https://campusgenero.inmujeres.gob.mx › terminos › se...\n",
      "campusgenero.inmujeres.gob.mx\n",
      "El sesgo de género se refiere a la omisión que se hace sobre cómo son conceptualizadas las mujeres, los hombres y las relaciones de género en un determinado ...\n",
      "Sesgo de género - Wikipedia, la enciclopedia libre\n",
      "https://es.wikipedia.org/wiki/Sesgo_de_g%C3%A9nero\n",
      "https://es.wikipedia.org › wiki › Sesgo_de_género\n",
      "es.wikipedia.org\n",
      "El sesgo de género se define como los principios o preceptos que se asignan a una persona o colectivo basado en su género. Se trata de ideas, ...\n",
      "El sesgo de género y su influencia en el ámbito laboral\n",
      "https://protecciondatos-lopd.com/empresas/sesgo-de-genero/\n",
      "https://protecciondatos-lopd.com › empresas › sesgo-de...\n",
      "protecciondatos-lopd.com\n",
      "28 oct 2021 — El sesgo de género consiste en omitir la manera en que se conceptualizan los hombres, las mujeres y las relaciones entre ellos al realizar ...\n",
      "Los 4 sesgos de género más importantes y frecuentes\n",
      "https://www.observatoriorh.com/orh-posts/los-4-sesgos-de-genero-mas-importantes-y-frecuentes.html\n",
      "https://www.observatoriorh.com › orh-posts › los-4-ses...\n",
      "observatoriorh.com\n",
      "10 ene 2022 — Los 4 sesgos de género más importantes y frecuentes · 1. Sesgo de rendimiento. “El sesgo de rendimiento consiste en una subestimación del ...\n",
      "Los sesgos de género: conscientes en nuestra inconsciencia\n",
      "https://komunikalatam.com/sesgos-de-genero/\n",
      "https://komunikalatam.com › RSE y Sostenibilidad\n",
      "komunikalatam.com\n",
      "El sesgo de género se refiere a aquellas creencias inconscientes que todos tenemos sobre hombres y mujeres, basadas en los estereotipos socioculturales con los ...\n",
      "Sesgo de género en trabajos bajo presión | People - ACCIONA\n",
      "https://people.acciona.com/es/inclusion-y-diversidad/sesgo-genero-trabajo/\n",
      "https://people.acciona.com › sesgo-genero-trabajo\n",
      "people.acciona.com\n",
      "21 abr 2021 — Mientras la feminización de la fuerza laboral se extiende, las mujeres siguen combatiendo los prejuicios y el sesgo de género en el trabajo ...\n",
      "Descubriendo el costo oculto del sesgo de género ... - IDB Invest\n",
      "https://idbinvest.org/es/blog/genero/descubriendo-el-costo-oculto-del-sesgo-de-genero-en-el-credito-de-las-mujeres\n",
      "https://idbinvest.org › blog › genero › descubriendo-el-...\n",
      "idbinvest.org\n",
      "30 mar 2022 — Los sesgos de género, sean estos conscientes o no, dejan a millones de mujeres excluidas del acceso al financiamiento y millones de dólares ...\n",
      "Sesgo de género en Medicina: así afecta a la salud ... - Newtral\n",
      "https://www.newtral.es/sesgo-de-genero-medicina-mujeres-salud/20210912/\n",
      "https://www.newtral.es › sesgo-de-genero-medicina-muj...\n",
      "newtral.es\n",
      "12 sept 2021 — Los sesgos de género en Medicina afectan a la salud de las mujeres: desde enfermedades menos estudiadas a retrasos diagnósticos.\n",
      "Necesario, romper sesgos de género en la elección de carrera\n",
      "https://coordinaciongenero.unam.mx/2021/08/necesario-romper-sesgos-de-genero-en-la-eleccion-de-carrera-hilda-rodriguez/\n",
      "https://coordinaciongenero.unam.mx › 2021/08 › neces...\n",
      "coordinaciongenero.unam.mx\n",
      "12 ago 2021 — Necesario, romper sesgos de género en la elección de carrera: Hilda Rodríguez. En el marco de la Jornadas Académicas 2021 que organiza la ...\n",
      "Romper el sesgo para mejorar los datos de género - ILOSTAT\n",
      "https://ilostat.ilo.org/es/breaking-the-bias-for-better-gender-data/\n",
      "https://ilostat.ilo.org › breaking-the-bias-for-better-gend...\n",
      "ilostat.ilo.org\n",
      "13 jul 2022 — La generación de estadísticas de alta calidad depende de la eliminación del sesgo de género en todas las etapas del proceso de producción.\n"
     ]
    }
   ],
   "source": [
    "for result in doc.select('.tF2Cxc'):\n",
    "    title = result.find(\"h3\").text\n",
    "    link = result.select_one('.yuRUbf a')['href']\n",
    "    displayed_link = result.select_one('.TbwUpd.NJjxre').text\n",
    "    domain_name = ''.join(re.findall(r'^(?:https?:\\/\\/)?(?:[^@\\/\\n]+@)?(?:www\\.)?([^:\\/?\\n]+)', link))\n",
    "    try:\n",
    "        snippet = result.select_one('#rso .lyLwlc').text\n",
    "    except:\n",
    "        snippet = None\n",
    "    \n",
    "    print(title)\n",
    "    print(link)\n",
    "    print(displayed_link)\n",
    "    print(domain_name)\n",
    "    print(snippet)"
   ]
  },
  {
   "cell_type": "code",
   "execution_count": null,
   "id": "75fb553b-91ec-477c-9f31-4d945b5b3c47",
   "metadata": {},
   "outputs": [],
   "source": []
  },
  {
   "cell_type": "code",
   "execution_count": null,
   "id": "514d3f21-a757-4b84-83ac-3b784b22b44b",
   "metadata": {},
   "outputs": [],
   "source": []
  },
  {
   "cell_type": "code",
   "execution_count": null,
   "id": "b7109860-1b93-4a14-8e85-24287b4faa54",
   "metadata": {},
   "outputs": [],
   "source": []
  }
 ],
 "metadata": {
  "kernelspec": {
   "display_name": "Python 3 (ipykernel)",
   "language": "python",
   "name": "python3"
  },
  "language_info": {
   "codemirror_mode": {
    "name": "ipython",
    "version": 3
   },
   "file_extension": ".py",
   "mimetype": "text/x-python",
   "name": "python",
   "nbconvert_exporter": "python",
   "pygments_lexer": "ipython3",
   "version": "3.9.12"
  }
 },
 "nbformat": 4,
 "nbformat_minor": 5
}
