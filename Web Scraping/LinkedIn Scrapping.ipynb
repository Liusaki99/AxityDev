{
 "cells": [
  {
   "cell_type": "markdown",
   "id": "1c51ff1a-c260-4a24-883d-368d7c53f275",
   "metadata": {},
   "source": [
    "# Scrapping LinkedIn\n",
    "\n",
    "Interesting links:\n",
    "\n",
    "- [scraperapi](https://dashboard.scraperapi.com/signup)"
   ]
  },
  {
   "cell_type": "code",
   "execution_count": 1,
   "id": "dc15d56e-9639-4c72-bdcd-ee968199968c",
   "metadata": {},
   "outputs": [],
   "source": [
    "import requests # python3 -m pip install requests beautifulsoup4\n",
    "from bs4 import BeautifulSoup"
   ]
  },
  {
   "cell_type": "code",
   "execution_count": 64,
   "id": "40ac50c3-b7da-4fbb-b39a-c1729d784cdf",
   "metadata": {},
   "outputs": [
    {
     "name": "stdout",
     "output_type": "stream",
     "text": [
      "<Response [200]>\n"
     ]
    }
   ],
   "source": [
    "url = 'https://www.linkedin.com/jobs-guest/jobs/api/seeMoreJobPostings/search?keywords=Data%20Scientist&amp;amp;amp;amp;location=Mexico&amp;amp;amp;amp;geoId=103323778&amp;amp;amp;amp;trk=public_jobs_jobs-search-bar_search-submit&amp;amp;amp;amp;position=1&amp;amp;amp;amp;pageNum=0&amp;amp;amp;amp;start=0'\n",
    "response = requests.get(url)\n",
    "print(response)\n",
    "#A 200 status code indicates a successful HTTP request"
   ]
  },
  {
   "cell_type": "code",
   "execution_count": 65,
   "id": "a60caa4c-77d1-4ea5-a139-d3cf78213c93",
   "metadata": {},
   "outputs": [],
   "source": [
    "soup = BeautifulSoup(response.content, 'html.parser')"
   ]
  },
  {
   "cell_type": "raw",
   "id": "ad50bd19-b75f-43e9-8e01-3ab67b5a0402",
   "metadata": {},
   "source": [
    "print(soup.prettify())"
   ]
  },
  {
   "cell_type": "code",
   "execution_count": 66,
   "id": "b3d897f3-ca74-4b36-8548-83e2895b4d43",
   "metadata": {},
   "outputs": [
    {
     "name": "stdout",
     "output_type": "stream",
     "text": [
      "Data Science\n"
     ]
    }
   ],
   "source": [
    "job_title = soup.find('h3', class_='base-search-card__title').text\n",
    "print(job_title.strip())"
   ]
  },
  {
   "cell_type": "code",
   "execution_count": 67,
   "id": "12e3e10c-9a27-4aee-b902-fc076304e5ec",
   "metadata": {},
   "outputs": [
    {
     "name": "stdout",
     "output_type": "stream",
     "text": [
      "Data Science\n",
      "Data Scientist E-Commerce Jr.\n",
      "Data Scientist\n",
      "Data Scientist Jr (C10)\n",
      "Machine Learning Engineer - NLP\n",
      "Data Science\n",
      "Machine Learning Engineer - Computer Vision\n",
      "Científico de Datos/Data Scientist\n",
      "Data Scientist\n",
      "Científico de datos Temporal - Célula 26\n",
      "Cientifico de Datos Experiencia en PYTHON\n",
      "Científico de Datos - Analítica Digital\n",
      "Científico de Datos\n",
      "Data Scientist\n",
      "Científico de Datos PrepaTec\n",
      "Data Scientist\n",
      "Científico de datos\n",
      "Data Scientist for Financing (Machine Learning)\n",
      "Data Science\n",
      "Data Scientist/Analyst - Morocco, Spain, Italy, Portugal, Czech Republic\n",
      "Data Scientist\n",
      "Data Science - Cibersecurity\n",
      "Data Scientist\n",
      "Data Scientist\n",
      "Data Scientist - Hibrido\n"
     ]
    }
   ],
   "source": [
    "ex = soup.find_all('h3', class_='base-search-card__title')\n",
    "for i in ex:\n",
    "    print(i.text.strip())"
   ]
  },
  {
   "cell_type": "code",
   "execution_count": 70,
   "id": "4aaf3ee5-15e4-4953-a268-3bd6d9c0d75a",
   "metadata": {},
   "outputs": [],
   "source": [
    "url = 'https://www.linkedin.com/jobs-guest/jobs/api/seeMoreJobPostings/search?keywords=Data%20Scientist&amp;amp;amp;amp;location=Mexico&amp;amp;amp;amp;geoId=103323778&amp;amp;amp;amp;trk=public_jobs_jobs-search-bar_search-submit&amp;amp;amp;amp;position=1&amp;amp;amp;amp;pageNum=0&amp;amp;amp;amp;start='\n",
    "\n",
    "def linkedin_scraper(webpage, page_number):\n",
    "    next_page = webpage + str(page_number)\n",
    "    print(str(next_page))\n",
    "    response = requests.get(str(next_page))\n",
    "    soup = BeautifulSoup(response.content, 'html.parser')\n",
    "    print(response)\n",
    "    print(page_number)"
   ]
  },
  {
   "cell_type": "code",
   "execution_count": 72,
   "id": "4c9e929c-9360-49b6-8dca-ec3530a07549",
   "metadata": {},
   "outputs": [
    {
     "name": "stdout",
     "output_type": "stream",
     "text": [
      "https://www.linkedin.com/jobs-guest/jobs/api/seeMoreJobPostings/search?keywords=Data%20Scientist&amp;amp;amp;amp;location=Mexico&amp;amp;amp;amp;geoId=103323778&amp;amp;amp;amp;trk=public_jobs_jobs-search-bar_search-submit&amp;amp;amp;amp;position=1&amp;amp;amp;amp;pageNum=0&amp;amp;amp;amp;start=0\n",
      "<Response [200]>\n",
      "0\n",
      "CPU times: total: 31.2 ms\n",
      "Wall time: 835 ms\n"
     ]
    }
   ],
   "source": [
    "%%time\n",
    "linkedin_scraper(url, 0)"
   ]
  },
  {
   "cell_type": "markdown",
   "id": "114983d1-28db-4c31-9a72-d4b380167e81",
   "metadata": {},
   "source": [
    "## Scrapper Function"
   ]
  },
  {
   "cell_type": "code",
   "execution_count": 98,
   "id": "75e806b1-6838-42cd-862c-134195a29ced",
   "metadata": {},
   "outputs": [],
   "source": [
    "def linkedin_scraper(job_linkedIn, page_number):\n",
    "    webpage = 'https://www.linkedin.com/jobs-guest/jobs/api/seeMoreJobPostings/search?keywords='+job_linkedIn+'&amp;amp;amp;amp;location=Mexico&amp;amp;amp;amp;geoId=103323778&amp;amp;amp;amp;trk=public_jobs_jobs-search-bar_search-submit&amp;amp;amp;amp;position=1&amp;amp;amp;amp;pageNum=0&amp;amp;amp;amp;start='\n",
    "    \n",
    "    dict_all = {}\n",
    "    \n",
    "    for i in page_number:\n",
    "        next_page = webpage + str(page_number[i])\n",
    "        print(str(next_page))\n",
    "        print(i)\n",
    "        response = requests.get(str(next_page))\n",
    "        soup = BeautifulSoup(response.content, 'html.parser')\n",
    "        print(response)\n",
    "        \n",
    "        results = {}\n",
    "        \n",
    "        dict_iter = {}\n",
    "        k = 0\n",
    "        \n",
    "        jobs = soup.find_all('div', class_='base-card relative w-full hover:no-underline focus:no-underline base-card--link base-search-card base-search-card--link job-search-card')\n",
    "        for job in jobs:\n",
    "            job_title = job.find('h3', class_='base-search-card__title').text.strip()\n",
    "            job_company = job.find('h4', class_='base-search-card__subtitle').text.strip()\n",
    "            job_location = job.find('span', class_='job-search-card__location').text.strip()\n",
    "            job_link = job.find('a', class_='base-card__full-link')['href']\n",
    "            \n",
    "            dict_iter[k] = {\"title\": job_title,\n",
    "                            \"company\": job_company,\n",
    "                            \"location\": job_location,\n",
    "                            \"link\": job_link}\n",
    "            \n",
    "            k += 1\n",
    "            \n",
    "        dict_all[i] = dict_iter\n",
    "        \n",
    "    return dict_all"
   ]
  },
  {
   "cell_type": "code",
   "execution_count": 99,
   "id": "b7184142-0d85-4ffb-94d0-e3ce810f424e",
   "metadata": {},
   "outputs": [
    {
     "name": "stdout",
     "output_type": "stream",
     "text": [
      "https://www.linkedin.com/jobs-guest/jobs/api/seeMoreJobPostings/search?keywords=Data%20Scientist&amp;amp;amp;amp;location=Mexico&amp;amp;amp;amp;geoId=103323778&amp;amp;amp;amp;trk=public_jobs_jobs-search-bar_search-submit&amp;amp;amp;amp;position=1&amp;amp;amp;amp;pageNum=0&amp;amp;amp;amp;start=0\n",
      "0\n",
      "<Response [200]>\n",
      "https://www.linkedin.com/jobs-guest/jobs/api/seeMoreJobPostings/search?keywords=Data%20Scientist&amp;amp;amp;amp;location=Mexico&amp;amp;amp;amp;geoId=103323778&amp;amp;amp;amp;trk=public_jobs_jobs-search-bar_search-submit&amp;amp;amp;amp;position=1&amp;amp;amp;amp;pageNum=0&amp;amp;amp;amp;start=1\n",
      "1\n",
      "<Response [200]>\n",
      "CPU times: total: 188 ms\n",
      "Wall time: 1.85 s\n"
     ]
    }
   ],
   "source": [
    "%%time\n",
    "job_search = 'Data%20Scientist'\n",
    "results = linkedin_scraper(job_search, [0,1])"
   ]
  },
  {
   "cell_type": "code",
   "execution_count": 100,
   "id": "13eb2860-8cb3-4353-949b-d4daa1554466",
   "metadata": {},
   "outputs": [
    {
     "data": {
      "text/plain": [
       "{0: {0: {'title': 'Data Science',\n",
       "   'company': 'Walmart',\n",
       "   'location': 'Mexico City Metropolitan Area',\n",
       "   'link': 'https://mx.linkedin.com/jobs/view/data-science-at-walmart-3322762471?refId=xYkM1J4RW6FNQ6D28OEJxQ%3D%3D&trackingId=mCM6%2FtIviWnloC69FD3klA%3D%3D&position=1&pageNum=0&trk=public_jobs_jserp-result_search-card'},\n",
       "  1: {'title': 'Data Science',\n",
       "   'company': 'Walmart',\n",
       "   'location': 'Mexico City Metropolitan Area',\n",
       "   'link': 'https://mx.linkedin.com/jobs/view/data-science-at-walmart-3295089298?refId=xYkM1J4RW6FNQ6D28OEJxQ%3D%3D&trackingId=V4iBG89PN0ZiUY57%2FQAB%2BA%3D%3D&position=2&pageNum=0&trk=public_jobs_jserp-result_search-card'},\n",
       "  2: {'title': 'Data Scientist, Spotify For Artists',\n",
       "   'company': 'Spotify',\n",
       "   'location': 'Mexico',\n",
       "   'link': 'https://mx.linkedin.com/jobs/view/data-scientist-spotify-for-artists-at-spotify-3259958173?refId=xYkM1J4RW6FNQ6D28OEJxQ%3D%3D&trackingId=dHNLVFP1kSCFbRhCZGt2Fw%3D%3D&position=3&pageNum=0&trk=public_jobs_jserp-result_search-card'},\n",
       "  3: {'title': 'Científico de datos JR',\n",
       "   'company': 'El Puerto de Liverpool',\n",
       "   'location': 'Cuajimalpa de Morelos, Mexico City, Mexico',\n",
       "   'link': 'https://mx.linkedin.com/jobs/view/cient%C3%ADfico-de-datos-jr-at-el-puerto-de-liverpool-3273298776?refId=xYkM1J4RW6FNQ6D28OEJxQ%3D%3D&trackingId=48myIq30XRWONtaSam48Ow%3D%3D&position=4&pageNum=0&trk=public_jobs_jserp-result_search-card'},\n",
       "  4: {'title': 'Data Scientist Specialist',\n",
       "   'company': 'Grupo Modelo S.A. de C.V.',\n",
       "   'location': 'Mexico City, Mexico',\n",
       "   'link': 'https://mx.linkedin.com/jobs/view/data-scientist-specialist-at-grupo-modelo-3309487491?refId=xYkM1J4RW6FNQ6D28OEJxQ%3D%3D&trackingId=7aPf8SMrcLAmDkuGN%2F4E2w%3D%3D&position=5&pageNum=0&trk=public_jobs_jserp-result_search-card'},\n",
       "  5: {'title': 'Data Scientist, Creator Promotion',\n",
       "   'company': 'Spotify',\n",
       "   'location': 'Mexico',\n",
       "   'link': 'https://mx.linkedin.com/jobs/view/data-scientist-creator-promotion-at-spotify-3308580418?refId=xYkM1J4RW6FNQ6D28OEJxQ%3D%3D&trackingId=M4HgeCXr1VTE30ZZENy8HA%3D%3D&position=6&pageNum=0&trk=public_jobs_jserp-result_search-card'},\n",
       "  6: {'title': 'Data Scientist E-Commerce Jr.',\n",
       "   'company': 'Connectingology',\n",
       "   'location': 'Mexico City, Mexico',\n",
       "   'link': 'https://mx.linkedin.com/jobs/view/data-scientist-e-commerce-jr-at-connectingology-3319999966?refId=xYkM1J4RW6FNQ6D28OEJxQ%3D%3D&trackingId=8IlLj0sggBFK6rx4%2BXmF9Q%3D%3D&position=7&pageNum=0&trk=public_jobs_jserp-result_search-card'},\n",
       "  7: {'title': 'Data Scientist, Strategic Research',\n",
       "   'company': 'Spotify',\n",
       "   'location': 'Mexico',\n",
       "   'link': 'https://mx.linkedin.com/jobs/view/data-scientist-strategic-research-at-spotify-3300013398?refId=xYkM1J4RW6FNQ6D28OEJxQ%3D%3D&trackingId=YkXqrT3bv0vXhP%2Bct0cxQA%3D%3D&position=8&pageNum=0&trk=public_jobs_jserp-result_search-card'},\n",
       "  8: {'title': 'Científico de datos',\n",
       "   'company': 'Telefónica',\n",
       "   'location': 'Mexico City Metropolitan Area',\n",
       "   'link': 'https://mx.linkedin.com/jobs/view/cient%C3%ADfico-de-datos-at-telef%C3%B3nica-3319563158?refId=xYkM1J4RW6FNQ6D28OEJxQ%3D%3D&trackingId=e05WR0s9T2Q1JvHUwjNUWw%3D%3D&position=9&pageNum=0&trk=public_jobs_jserp-result_search-card'},\n",
       "  9: {'title': 'Data Scientist',\n",
       "   'company': 'Tu Habi',\n",
       "   'location': 'Mexico City, Mexico',\n",
       "   'link': 'https://mx.linkedin.com/jobs/view/data-scientist-at-tu-habi-3295242723?refId=xYkM1J4RW6FNQ6D28OEJxQ%3D%3D&trackingId=PkdHnobOmDenOhbl0H6WLg%3D%3D&position=10&pageNum=0&trk=public_jobs_jserp-result_search-card'},\n",
       "  10: {'title': 'Data Scientist',\n",
       "   'company': '99minutos.com',\n",
       "   'location': 'Miguel Hidalgo, Mexico City, Mexico',\n",
       "   'link': 'https://mx.linkedin.com/jobs/view/data-scientist-at-99minutos-com-3193458604?refId=xYkM1J4RW6FNQ6D28OEJxQ%3D%3D&trackingId=gT0hkpzZRfbRbpBXPVhpwA%3D%3D&position=11&pageNum=0&trk=public_jobs_jserp-result_search-card'},\n",
       "  11: {'title': 'Data Scientist Jr (C10)',\n",
       "   'company': 'Citibanamex',\n",
       "   'location': 'Mexico City, Mexico',\n",
       "   'link': 'https://mx.linkedin.com/jobs/view/data-scientist-jr-c10-at-citibanamex-3297636868?refId=xYkM1J4RW6FNQ6D28OEJxQ%3D%3D&trackingId=Aup7kStlrdWzLwgsN7M%2B%2BA%3D%3D&position=12&pageNum=0&trk=public_jobs_jserp-result_search-card'},\n",
       "  12: {'title': 'Data Science',\n",
       "   'company': 'Ingeniosi',\n",
       "   'location': 'México, Mexico',\n",
       "   'link': 'https://mx.linkedin.com/jobs/view/data-science-at-ingeniosi-3319664220?refId=xYkM1J4RW6FNQ6D28OEJxQ%3D%3D&trackingId=5B5wkBecFIx0YSswj6Qbgw%3D%3D&position=13&pageNum=0&trk=public_jobs_jserp-result_search-card'},\n",
       "  13: {'title': 'Machine Learning Engineer - NLP',\n",
       "   'company': 'aviva',\n",
       "   'location': 'Mexico City, Mexico',\n",
       "   'link': 'https://mx.linkedin.com/jobs/view/machine-learning-engineer-nlp-at-aviva-3313181548?refId=xYkM1J4RW6FNQ6D28OEJxQ%3D%3D&trackingId=u873cXic%2FAMKA9Lkdt8WPw%3D%3D&position=14&pageNum=0&trk=public_jobs_jserp-result_search-card'},\n",
       "  14: {'title': 'Data Scientist',\n",
       "   'company': 'Selectio México',\n",
       "   'location': 'Azcapotzalco, Mexico City, Mexico',\n",
       "   'link': 'https://mx.linkedin.com/jobs/view/data-scientist-at-selectio-m%C3%A9xico-3318257475?refId=xYkM1J4RW6FNQ6D28OEJxQ%3D%3D&trackingId=jldQE3Pgja1xT%2BM4aRS7Aw%3D%3D&position=15&pageNum=0&trk=public_jobs_jserp-result_search-card'},\n",
       "  15: {'title': 'Machine Learning Engineer - Computer Vision',\n",
       "   'company': 'aviva',\n",
       "   'location': 'Mexico City, Mexico',\n",
       "   'link': 'https://mx.linkedin.com/jobs/view/machine-learning-engineer-computer-vision-at-aviva-3313188483?refId=xYkM1J4RW6FNQ6D28OEJxQ%3D%3D&trackingId=xAy0EmXkpk7gkpkIGxwN%2FQ%3D%3D&position=16&pageNum=0&trk=public_jobs_jserp-result_search-card'},\n",
       "  16: {'title': 'Product Data Scientist, Spotify Advertising',\n",
       "   'company': 'Spotify',\n",
       "   'location': 'Mexico',\n",
       "   'link': 'https://mx.linkedin.com/jobs/view/product-data-scientist-spotify-advertising-at-spotify-3300010770?refId=xYkM1J4RW6FNQ6D28OEJxQ%3D%3D&trackingId=UF%2FP6JP3o5agEhMs6TEewA%3D%3D&position=17&pageNum=0&trk=public_jobs_jserp-result_search-card'},\n",
       "  17: {'title': 'Científico de Datos PrepaTec',\n",
       "   'company': 'Tecnológico de Monterrey',\n",
       "   'location': 'Monterrey, Nuevo León, Mexico',\n",
       "   'link': 'https://mx.linkedin.com/jobs/view/cient%C3%ADfico-de-datos-prepatec-at-tecnol%C3%B3gico-de-monterrey-3247606366?refId=xYkM1J4RW6FNQ6D28OEJxQ%3D%3D&trackingId=4wC03KJkNyxFVwDZBDYf1w%3D%3D&position=18&pageNum=0&trk=public_jobs_jserp-result_search-card'},\n",
       "  18: {'title': 'Machine Learning Engineer',\n",
       "   'company': 'Kavak.com',\n",
       "   'location': 'Mexico',\n",
       "   'link': 'https://mx.linkedin.com/jobs/view/machine-learning-engineer-at-kavak-com-2507787844?refId=xYkM1J4RW6FNQ6D28OEJxQ%3D%3D&trackingId=Pb%2B8nJebxpnoir7iYLnpRw%3D%3D&position=19&pageNum=0&trk=public_jobs_jserp-result_search-card'},\n",
       "  19: {'title': 'Data Scientist',\n",
       "   'company': 'Ingeniosi',\n",
       "   'location': 'Mexico City, Mexico',\n",
       "   'link': 'https://mx.linkedin.com/jobs/view/data-scientist-at-ingeniosi-3304534294?refId=xYkM1J4RW6FNQ6D28OEJxQ%3D%3D&trackingId=CNDI1VLm2i0IsI5lYRwTug%3D%3D&position=20&pageNum=0&trk=public_jobs_jserp-result_search-card'},\n",
       "  20: {'title': 'Científico de Datos/Data Scientist',\n",
       "   'company': 'Covalto',\n",
       "   'location': 'Miguel Hidalgo, Mexico City, Mexico',\n",
       "   'link': 'https://mx.linkedin.com/jobs/view/cient%C3%ADfico-de-datos-data-scientist-at-covalto-3304774727?refId=xYkM1J4RW6FNQ6D28OEJxQ%3D%3D&trackingId=BQBIIXFD%2FO67q1paPSlGSQ%3D%3D&position=21&pageNum=0&trk=public_jobs_jserp-result_search-card'},\n",
       "  21: {'title': 'Científico de datos Temporal - Célula 26',\n",
       "   'company': 'Tecnológico de Monterrey',\n",
       "   'location': 'Monterrey, Nuevo León, Mexico',\n",
       "   'link': 'https://mx.linkedin.com/jobs/view/cient%C3%ADfico-de-datos-temporal-c%C3%A9lula-26-at-tecnol%C3%B3gico-de-monterrey-3253811233?refId=xYkM1J4RW6FNQ6D28OEJxQ%3D%3D&trackingId=o2ukJGs6p0w3%2BN%2Bm1TwDHQ%3D%3D&position=22&pageNum=0&trk=public_jobs_jserp-result_search-card'},\n",
       "  22: {'title': 'Data Scientist',\n",
       "   'company': 'Tata Consultancy Services',\n",
       "   'location': 'Mexico City, Mexico',\n",
       "   'link': 'https://mx.linkedin.com/jobs/view/data-scientist-at-tata-consultancy-services-3313149209?refId=xYkM1J4RW6FNQ6D28OEJxQ%3D%3D&trackingId=pqMu71sMDpAxF0IVb%2Bgvmg%3D%3D&position=23&pageNum=0&trk=public_jobs_jserp-result_search-card'},\n",
       "  23: {'title': 'Cientifico de Datos Experiencia en PYTHON',\n",
       "   'company': 'OpenService S.A. de  C.V.',\n",
       "   'location': 'Ciudad Apodaca, Nuevo León, Mexico',\n",
       "   'link': 'https://mx.linkedin.com/jobs/view/cientifico-de-datos-experiencia-en-python-at-openservice-3285744604?refId=xYkM1J4RW6FNQ6D28OEJxQ%3D%3D&trackingId=aJtFoZfuJhn%2F9TY2CAvahQ%3D%3D&position=24&pageNum=0&trk=public_jobs_jserp-result_search-card'},\n",
       "  24: {'title': 'Data Scientist',\n",
       "   'company': 'Genpact',\n",
       "   'location': 'Monterrey, Nuevo León, Mexico',\n",
       "   'link': 'https://mx.linkedin.com/jobs/view/data-scientist-at-genpact-3292302027?refId=xYkM1J4RW6FNQ6D28OEJxQ%3D%3D&trackingId=%2B96ui3P3oC2C4ukX6so5Yw%3D%3D&position=25&pageNum=0&trk=public_jobs_jserp-result_search-card'}},\n",
       " 1: {0: {'title': 'Data Science',\n",
       "   'company': 'Walmart',\n",
       "   'location': 'Mexico City Metropolitan Area',\n",
       "   'link': 'https://mx.linkedin.com/jobs/view/data-science-at-walmart-3322762471?refId=068WasydAQmar8cQjK9wlQ%3D%3D&trackingId=sIfHU2qlhAwpc2fVn3tTPg%3D%3D&position=1&pageNum=0&trk=public_jobs_jserp-result_search-card'},\n",
       "  1: {'title': 'Data Scientist, Spotify For Artists',\n",
       "   'company': 'Spotify',\n",
       "   'location': 'Mexico',\n",
       "   'link': 'https://mx.linkedin.com/jobs/view/data-scientist-spotify-for-artists-at-spotify-3259958173?refId=068WasydAQmar8cQjK9wlQ%3D%3D&trackingId=5NZRW0863W5lMFIYVxjxJQ%3D%3D&position=2&pageNum=0&trk=public_jobs_jserp-result_search-card'},\n",
       "  2: {'title': 'Científico de datos JR',\n",
       "   'company': 'El Puerto de Liverpool',\n",
       "   'location': 'Cuajimalpa de Morelos, Mexico City, Mexico',\n",
       "   'link': 'https://mx.linkedin.com/jobs/view/cient%C3%ADfico-de-datos-jr-at-el-puerto-de-liverpool-3273298776?refId=068WasydAQmar8cQjK9wlQ%3D%3D&trackingId=2Q8q1shMCykz9CQSkTpJBA%3D%3D&position=3&pageNum=0&trk=public_jobs_jserp-result_search-card'},\n",
       "  3: {'title': 'Data Scientist Specialist',\n",
       "   'company': 'Grupo Modelo S.A. de C.V.',\n",
       "   'location': 'Mexico City, Mexico',\n",
       "   'link': 'https://mx.linkedin.com/jobs/view/data-scientist-specialist-at-grupo-modelo-3309487491?refId=068WasydAQmar8cQjK9wlQ%3D%3D&trackingId=V%2BC7kHSMTvObcbTiT14V4w%3D%3D&position=4&pageNum=0&trk=public_jobs_jserp-result_search-card'},\n",
       "  4: {'title': 'Data Scientist, Creator Promotion',\n",
       "   'company': 'Spotify',\n",
       "   'location': 'Mexico',\n",
       "   'link': 'https://mx.linkedin.com/jobs/view/data-scientist-creator-promotion-at-spotify-3308580418?refId=068WasydAQmar8cQjK9wlQ%3D%3D&trackingId=PBRNSvAGFP0VZX3KIKTSNw%3D%3D&position=5&pageNum=0&trk=public_jobs_jserp-result_search-card'},\n",
       "  5: {'title': 'Data Scientist E-Commerce Jr.',\n",
       "   'company': 'Connectingology',\n",
       "   'location': 'Mexico City, Mexico',\n",
       "   'link': 'https://mx.linkedin.com/jobs/view/data-scientist-e-commerce-jr-at-connectingology-3319999966?refId=068WasydAQmar8cQjK9wlQ%3D%3D&trackingId=H7bw%2FYYcYPXNOj8erXIjYQ%3D%3D&position=6&pageNum=0&trk=public_jobs_jserp-result_search-card'},\n",
       "  6: {'title': 'Data Scientist, Strategic Research',\n",
       "   'company': 'Spotify',\n",
       "   'location': 'Mexico',\n",
       "   'link': 'https://mx.linkedin.com/jobs/view/data-scientist-strategic-research-at-spotify-3300013398?refId=068WasydAQmar8cQjK9wlQ%3D%3D&trackingId=l3E29fecVn94JXEJLhkT1A%3D%3D&position=7&pageNum=0&trk=public_jobs_jserp-result_search-card'},\n",
       "  7: {'title': 'Científico de datos',\n",
       "   'company': 'Telefónica',\n",
       "   'location': 'Mexico City Metropolitan Area',\n",
       "   'link': 'https://mx.linkedin.com/jobs/view/cient%C3%ADfico-de-datos-at-telef%C3%B3nica-3319563158?refId=068WasydAQmar8cQjK9wlQ%3D%3D&trackingId=pADMO1RA9MV%2Fyed7qzLwxQ%3D%3D&position=8&pageNum=0&trk=public_jobs_jserp-result_search-card'},\n",
       "  8: {'title': 'Data Scientist',\n",
       "   'company': 'Tu Habi',\n",
       "   'location': 'Mexico City, Mexico',\n",
       "   'link': 'https://mx.linkedin.com/jobs/view/data-scientist-at-tu-habi-3295242723?refId=068WasydAQmar8cQjK9wlQ%3D%3D&trackingId=GL87SVuw7c9c3HiZgxER5g%3D%3D&position=9&pageNum=0&trk=public_jobs_jserp-result_search-card'},\n",
       "  9: {'title': 'Data Scientist',\n",
       "   'company': '99minutos.com',\n",
       "   'location': 'Miguel Hidalgo, Mexico City, Mexico',\n",
       "   'link': 'https://mx.linkedin.com/jobs/view/data-scientist-at-99minutos-com-3193458604?refId=068WasydAQmar8cQjK9wlQ%3D%3D&trackingId=kLX4nsG39ZT4%2BdwN9kgiXw%3D%3D&position=10&pageNum=0&trk=public_jobs_jserp-result_search-card'},\n",
       "  10: {'title': 'Data Scientist Jr (C10)',\n",
       "   'company': 'Citibanamex',\n",
       "   'location': 'Mexico City, Mexico',\n",
       "   'link': 'https://mx.linkedin.com/jobs/view/data-scientist-jr-c10-at-citibanamex-3297636868?refId=068WasydAQmar8cQjK9wlQ%3D%3D&trackingId=vyWNPcmk7NxPJyOZTEL8zA%3D%3D&position=11&pageNum=0&trk=public_jobs_jserp-result_search-card'},\n",
       "  11: {'title': 'Product Data Scientist, Spotify Advertising',\n",
       "   'company': 'Spotify',\n",
       "   'location': 'Mexico',\n",
       "   'link': 'https://mx.linkedin.com/jobs/view/product-data-scientist-spotify-advertising-at-spotify-3300010770?refId=068WasydAQmar8cQjK9wlQ%3D%3D&trackingId=RPKZcjvx%2BASvuxaEmSDx6A%3D%3D&position=12&pageNum=0&trk=public_jobs_jserp-result_search-card'},\n",
       "  12: {'title': 'Data Science',\n",
       "   'company': 'Ingeniosi',\n",
       "   'location': 'México, Mexico',\n",
       "   'link': 'https://mx.linkedin.com/jobs/view/data-science-at-ingeniosi-3319664220?refId=068WasydAQmar8cQjK9wlQ%3D%3D&trackingId=WhtDP5Q%2BSCxdG1jXX41ZKQ%3D%3D&position=13&pageNum=0&trk=public_jobs_jserp-result_search-card'},\n",
       "  13: {'title': 'Machine Learning Engineer - NLP',\n",
       "   'company': 'aviva',\n",
       "   'location': 'Mexico City, Mexico',\n",
       "   'link': 'https://mx.linkedin.com/jobs/view/machine-learning-engineer-nlp-at-aviva-3313181548?refId=068WasydAQmar8cQjK9wlQ%3D%3D&trackingId=qt0HtJRElXh3EI37gtMp%2BA%3D%3D&position=14&pageNum=0&trk=public_jobs_jserp-result_search-card'},\n",
       "  14: {'title': 'Data Scientist',\n",
       "   'company': 'Selectio México',\n",
       "   'location': 'Azcapotzalco, Mexico City, Mexico',\n",
       "   'link': 'https://mx.linkedin.com/jobs/view/data-scientist-at-selectio-m%C3%A9xico-3318257475?refId=068WasydAQmar8cQjK9wlQ%3D%3D&trackingId=nVEi9gZ8uAgxrzxM5rYh5w%3D%3D&position=15&pageNum=0&trk=public_jobs_jserp-result_search-card'},\n",
       "  15: {'title': 'Machine Learning Engineer - Computer Vision',\n",
       "   'company': 'aviva',\n",
       "   'location': 'Mexico City, Mexico',\n",
       "   'link': 'https://mx.linkedin.com/jobs/view/machine-learning-engineer-computer-vision-at-aviva-3313188483?refId=068WasydAQmar8cQjK9wlQ%3D%3D&trackingId=aiKLh4pE3AkXfiRSc4WzEg%3D%3D&position=16&pageNum=0&trk=public_jobs_jserp-result_search-card'},\n",
       "  16: {'title': 'Científico de Datos PrepaTec',\n",
       "   'company': 'Tecnológico de Monterrey',\n",
       "   'location': 'Monterrey, Nuevo León, Mexico',\n",
       "   'link': 'https://mx.linkedin.com/jobs/view/cient%C3%ADfico-de-datos-prepatec-at-tecnol%C3%B3gico-de-monterrey-3247606366?refId=068WasydAQmar8cQjK9wlQ%3D%3D&trackingId=Du1PXtDH7iGoj6O1d3s8gg%3D%3D&position=17&pageNum=0&trk=public_jobs_jserp-result_search-card'},\n",
       "  17: {'title': 'Machine Learning Engineer',\n",
       "   'company': 'Kavak.com',\n",
       "   'location': 'Mexico',\n",
       "   'link': 'https://mx.linkedin.com/jobs/view/machine-learning-engineer-at-kavak-com-2507787844?refId=068WasydAQmar8cQjK9wlQ%3D%3D&trackingId=k5Kg8j8xwIudWLNVXo0VKw%3D%3D&position=18&pageNum=0&trk=public_jobs_jserp-result_search-card'},\n",
       "  18: {'title': 'Data Scientist',\n",
       "   'company': 'Ingeniosi',\n",
       "   'location': 'Mexico City, Mexico',\n",
       "   'link': 'https://mx.linkedin.com/jobs/view/data-scientist-at-ingeniosi-3304534294?refId=068WasydAQmar8cQjK9wlQ%3D%3D&trackingId=VJ3X1N684chZqBwY%2FHOSzw%3D%3D&position=19&pageNum=0&trk=public_jobs_jserp-result_search-card'},\n",
       "  19: {'title': 'Científico de Datos/Data Scientist',\n",
       "   'company': 'Covalto',\n",
       "   'location': 'Miguel Hidalgo, Mexico City, Mexico',\n",
       "   'link': 'https://mx.linkedin.com/jobs/view/cient%C3%ADfico-de-datos-data-scientist-at-covalto-3304774727?refId=068WasydAQmar8cQjK9wlQ%3D%3D&trackingId=%2BXS6H086Yj2DGomAkG11fA%3D%3D&position=20&pageNum=0&trk=public_jobs_jserp-result_search-card'},\n",
       "  20: {'title': 'Científico de datos Temporal - Célula 26',\n",
       "   'company': 'Tecnológico de Monterrey',\n",
       "   'location': 'Monterrey, Nuevo León, Mexico',\n",
       "   'link': 'https://mx.linkedin.com/jobs/view/cient%C3%ADfico-de-datos-temporal-c%C3%A9lula-26-at-tecnol%C3%B3gico-de-monterrey-3253811233?refId=068WasydAQmar8cQjK9wlQ%3D%3D&trackingId=LrI3mExrxoozYO3soY%2Fmqg%3D%3D&position=21&pageNum=0&trk=public_jobs_jserp-result_search-card'},\n",
       "  21: {'title': 'Data Scientist',\n",
       "   'company': 'Tata Consultancy Services',\n",
       "   'location': 'Mexico City, Mexico',\n",
       "   'link': 'https://mx.linkedin.com/jobs/view/data-scientist-at-tata-consultancy-services-3313149209?refId=068WasydAQmar8cQjK9wlQ%3D%3D&trackingId=daK4VwHpHqNPA5LLGpoXEw%3D%3D&position=22&pageNum=0&trk=public_jobs_jserp-result_search-card'},\n",
       "  22: {'title': 'Cientifico de Datos Experiencia en PYTHON',\n",
       "   'company': 'OpenService S.A. de  C.V.',\n",
       "   'location': 'Ciudad Apodaca, Nuevo León, Mexico',\n",
       "   'link': 'https://mx.linkedin.com/jobs/view/cientifico-de-datos-experiencia-en-python-at-openservice-3285744604?refId=068WasydAQmar8cQjK9wlQ%3D%3D&trackingId=O6DggMUdBGCpd5dVrwbL7Q%3D%3D&position=23&pageNum=0&trk=public_jobs_jserp-result_search-card'},\n",
       "  23: {'title': 'Data Scientist',\n",
       "   'company': 'Genpact',\n",
       "   'location': 'Monterrey, Nuevo León, Mexico',\n",
       "   'link': 'https://mx.linkedin.com/jobs/view/data-scientist-at-genpact-3292302027?refId=068WasydAQmar8cQjK9wlQ%3D%3D&trackingId=uJc72ErWNAJIwtPXhtluBg%3D%3D&position=24&pageNum=0&trk=public_jobs_jserp-result_search-card'},\n",
       "  24: {'title': 'Científico de Datos - Analítica Digital',\n",
       "   'company': 'Coppel',\n",
       "   'location': 'Ciudad Hidalgo, Michoacán, Mexico',\n",
       "   'link': 'https://mx.linkedin.com/jobs/view/cient%C3%ADfico-de-datos-anal%C3%ADtica-digital-at-coppel-3279233300?refId=068WasydAQmar8cQjK9wlQ%3D%3D&trackingId=%2Fzuz9KKc83G2TyQAgr27dQ%3D%3D&position=25&pageNum=0&trk=public_jobs_jserp-result_search-card'}}}"
      ]
     },
     "execution_count": 100,
     "metadata": {},
     "output_type": "execute_result"
    }
   ],
   "source": [
    "results"
   ]
  },
  {
   "cell_type": "markdown",
   "id": "50b4ca02-ce6f-4b28-a808-f422799e4b27",
   "metadata": {},
   "source": [
    "## Importante\n",
    "\n",
    "Para evitar ser bloquedos en la búsqueda masiva de información en **LinkedIn**, el autor sugiere hacer el scrapping con `https://dashboard.scraperapi.com/signup`."
   ]
  },
  {
   "cell_type": "code",
   "execution_count": null,
   "id": "bf5fe645-e3f3-4d11-85cc-f3da904efc01",
   "metadata": {},
   "outputs": [],
   "source": []
  },
  {
   "cell_type": "code",
   "execution_count": null,
   "id": "e21c7438-5b31-4d1d-8fa2-63b4b0d1f2ae",
   "metadata": {},
   "outputs": [],
   "source": []
  },
  {
   "cell_type": "code",
   "execution_count": null,
   "id": "92adf47f-0d89-4fac-89ad-d9cd33e282f2",
   "metadata": {},
   "outputs": [],
   "source": []
  }
 ],
 "metadata": {
  "kernelspec": {
   "display_name": "Python 3 (ipykernel)",
   "language": "python",
   "name": "python3"
  },
  "language_info": {
   "codemirror_mode": {
    "name": "ipython",
    "version": 3
   },
   "file_extension": ".py",
   "mimetype": "text/x-python",
   "name": "python",
   "nbconvert_exporter": "python",
   "pygments_lexer": "ipython3",
   "version": "3.9.12"
  }
 },
 "nbformat": 4,
 "nbformat_minor": 5
}
